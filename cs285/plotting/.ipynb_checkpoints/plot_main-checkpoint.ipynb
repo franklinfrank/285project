{
 "cells": [
  {
   "cell_type": "code",
   "execution_count": 1,
   "metadata": {},
   "outputs": [
    {
     "name": "stderr",
     "output_type": "stream",
     "text": [
      "/home/jeffrey/srn/lib/python3.6/site-packages/tensorflow/python/framework/dtypes.py:523: FutureWarning: Passing (type, 1) or '1type' as a synonym of type is deprecated; in a future version of numpy, it will be understood as (type, (1,)) / '(1,)type'.\n",
      "  _np_qint8 = np.dtype([(\"qint8\", np.int8, 1)])\n",
      "/home/jeffrey/srn/lib/python3.6/site-packages/tensorflow/python/framework/dtypes.py:524: FutureWarning: Passing (type, 1) or '1type' as a synonym of type is deprecated; in a future version of numpy, it will be understood as (type, (1,)) / '(1,)type'.\n",
      "  _np_quint8 = np.dtype([(\"quint8\", np.uint8, 1)])\n",
      "/home/jeffrey/srn/lib/python3.6/site-packages/tensorflow/python/framework/dtypes.py:525: FutureWarning: Passing (type, 1) or '1type' as a synonym of type is deprecated; in a future version of numpy, it will be understood as (type, (1,)) / '(1,)type'.\n",
      "  _np_qint16 = np.dtype([(\"qint16\", np.int16, 1)])\n",
      "/home/jeffrey/srn/lib/python3.6/site-packages/tensorflow/python/framework/dtypes.py:526: FutureWarning: Passing (type, 1) or '1type' as a synonym of type is deprecated; in a future version of numpy, it will be understood as (type, (1,)) / '(1,)type'.\n",
      "  _np_quint16 = np.dtype([(\"quint16\", np.uint16, 1)])\n",
      "/home/jeffrey/srn/lib/python3.6/site-packages/tensorflow/python/framework/dtypes.py:527: FutureWarning: Passing (type, 1) or '1type' as a synonym of type is deprecated; in a future version of numpy, it will be understood as (type, (1,)) / '(1,)type'.\n",
      "  _np_qint32 = np.dtype([(\"qint32\", np.int32, 1)])\n",
      "/home/jeffrey/srn/lib/python3.6/site-packages/tensorflow/python/framework/dtypes.py:532: FutureWarning: Passing (type, 1) or '1type' as a synonym of type is deprecated; in a future version of numpy, it will be understood as (type, (1,)) / '(1,)type'.\n",
      "  np_resource = np.dtype([(\"resource\", np.ubyte, 1)])\n"
     ]
    }
   ],
   "source": [
    "import os\n",
    "from pathlib import Path\n",
    "from typing import List, Optional\n",
    "from collections import defaultdict\n",
    "\n",
    "\n",
    "import numpy as np\n",
    "import tensorflow as tf\n",
    "import matplotlib.pyplot as plt\n",
    "\n",
    "\n",
    "# Hack the system path a little bit so we can import ..scripts.utils\n",
    "import sys\n",
    "sys.path.append('..')\n",
    "\n",
    "from scripts import utils"
   ]
  },
  {
   "cell_type": "code",
   "execution_count": 2,
   "metadata": {},
   "outputs": [],
   "source": [
    "OUTPUT_DIR = Path(\"../output\")\n",
    "DATA_DIR = Path(\"../data\")"
   ]
  },
  {
   "cell_type": "markdown",
   "metadata": {},
   "source": [
    "# Helper functions"
   ]
  },
  {
   "cell_type": "code",
   "execution_count": 3,
   "metadata": {},
   "outputs": [],
   "source": [
    "# Path functions\n",
    "def get_subdirs(d: Path) -> List[Path]:\n",
    "    return [f for f in d.iterdir() if f.is_dir()]\n",
    "\n",
    "def get_exp_paths(exp_name: str, *, most_recent=False) -> List[Path]:\n",
    "    paths = DATA_DIR.glob(f\"*{exp_name}*\")\n",
    "    paths = list(sorted(paths, key=os.path.getmtime, reverse=True))\n",
    "    paths = [p for p in paths if 'bl' not in str(p)]\n",
    "    if most_recent:\n",
    "        return [paths[0]]\n",
    "    return paths"
   ]
  },
  {
   "cell_type": "code",
   "execution_count": 4,
   "metadata": {},
   "outputs": [],
   "source": [
    "# Log functions\n",
    "\n",
    "# https://github.com/franklinfrank/285project/blob/diff_ac/cs285/infrastructure/rl_trainer.py#L278-L301\n",
    "def parse_tf_eventsfile(filename: str, *, tag='Eval_AverageReturn') -> List:\n",
    "    eval_returns = []\n",
    "    for e in tf.train.summary_iterator(filename):\n",
    "        for v in e.summary.value:\n",
    "            if v.tag == tag:\n",
    "                eval_returns.append(v.simple_value)\n",
    "\n",
    "    return eval_returns"
   ]
  },
  {
   "cell_type": "markdown",
   "metadata": {},
   "source": [
    "# Plotting Code"
   ]
  },
  {
   "cell_type": "code",
   "execution_count": 10,
   "metadata": {
    "scrolled": false
   },
   "outputs": [],
   "source": [
    "DEFAULT_FIGSIZE = (10,8)\n",
    "\n",
    "TEXT_SIZE_SML = 12\n",
    "TEXT_SIZE_MED = 18\n",
    "TEXT_SIZE_LRG = 25\n",
    "\n",
    "FREE_VARIABLES = {\n",
    "    'env_sweep': 'env_name', \n",
    "    'sample_sweep': 'sample_strategy',\n",
    "    'terminal_val_sweep': 'terminal_val',\n",
    "    'batch_size_sweep': 'batch_size'\n",
    "}\n",
    "\n",
    "PRETTY_TITLES = {\n",
    "    'env_sweep': 'Comparison of methods on {env_name}', \n",
    "    'sample_sweep': 'Different sample strategies on {env_name}',\n",
    "    'terminal_val_sweep': 'Different terminal values on {env_name}',\n",
    "    'batch_size_sweep': 'Different batch size on {env_name}'\n",
    "}\n",
    "\n",
    "# BASELINES[env_name][seed]\n",
    "BASELINES = {\n",
    "    'CartPole-v0': {\n",
    "        2020: 'ac_bl_seed=2020_env_name=CartPole-v0_sample_strategy=ordered_random_terminal_val=2_batch_size=4000_CartPole-v0_16-12-2019_13-56-50',\n",
    "        285: 'ac_bl_seed=285_env_name=CartPole-v0_sample_strategy=ordered_random_terminal_val=2_batch_size=4000_CartPole-v0_16-12-2019_13-56-50',\n",
    "        2: 'ac_bl_seed=2_env_name=CartPole-v0_sample_strategy=ordered_random_terminal_val=2_batch_size=4000_CartPole-v0_16-12-2019_13-56-50'\n",
    "        \n",
    "    },\n",
    "    'HalfCheetah-v2': {\n",
    "        2020: 'ac_bl_seed=2020_env_name=HalfCheetah-v2_sample_strategy=ordered_random_terminal_val=2_batch_size=4000_HalfCheetah-v2_16-12-2019_13-56-50',\n",
    "        285: 'ac_bl_seed=285_env_name=HalfCheetah-v2_sample_strategy=ordered_random_terminal_val=2_batch_size=4000_HalfCheetah-v2_16-12-2019_13-56-49',\n",
    "        2: 'ac_bl_seed=2_env_name=HalfCheetah-v2_sample_strategy=ordered_random_terminal_val=2_batch_size=4000_HalfCheetah-v2_16-12-2019_13-56-50'\n",
    "    },\n",
    "    'InvertedPendulum-v2': {\n",
    "        2020: 'ac_bl_seed=2020_env_name=InvertedPendulum-v2_sample_strategy=ordered_random_terminal_val=2_batch_size=4000_InvertedPendulum-v2_16-12-2019_13-56-50',\n",
    "        285: 'ac_bl_seed=285_env_name=InvertedPendulum-v2_sample_strategy=ordered_random_terminal_val=2_batch_size=4000_InvertedPendulum-v2_16-12-2019_13-56-50',\n",
    "        2: 'ac_bl_seed=2_env_name=InvertedPendulum-v2_sample_strategy=ordered_random_terminal_val=2_batch_size=4000_InvertedPendulum-v2_16-12-2019_13-56-50'\n",
    "    }\n",
    "}"
   ]
  },
  {
   "cell_type": "code",
   "execution_count": 13,
   "metadata": {},
   "outputs": [],
   "source": [
    "def plot_exp_set(exp_set_name: str, *, plot_baseline=False) -> None:\n",
    "    \"\"\" Always averages over seeds\n",
    "    \"\"\" \n",
    "    \n",
    "    # Create a figure for each environment\n",
    "    for i, env_name in enumerate(utils.environments):\n",
    "        title = PRETTY_TITLES[exp_set_name].format(env_name=env_name)\n",
    "        plt.figure(i, figsize=DEFAULT_FIGSIZE)\n",
    "        plt.title(title)\n",
    "    \n",
    "    logfiles = defaultdict(lambda: defaultdict(list))\n",
    "    tmp = utils.get_exp_flags(exp_set_name)\n",
    "    for exp_flags in tmp:\n",
    "        # Get the run_folder for this combination of experiment flags\n",
    "        exp_name = utils.get_exp_name(exp_flags)\n",
    "        run_folder = get_exp_paths(exp_name, most_recent=True)[0]\n",
    "        # Identify the logfile\n",
    "        logfile = str(list(run_folder.iterdir())[0])\n",
    "        \n",
    "        # Average over seed, so get a exp_name that excludes the seed\n",
    "        exp_label = exp_flags[FREE_VARIABLES[exp_set_name]] if exp_set_name is not \"env_sweep\" else \"Differential\"\n",
    "        logfiles[exp_flags['env_name']][exp_label].append(logfile)\n",
    "    \n",
    "    ys_to_plot = []\n",
    "    # Average over seed\n",
    "    for env_name, trials in logfiles.items():\n",
    "        for label, files in trials.items():\n",
    "            # Aggregate things\n",
    "            trial_ys = []\n",
    "            for logfile in files:\n",
    "                trial_ys.append(parse_tf_eventsfile(logfile))\n",
    "            trial_ys = np.array(trial_ys)\n",
    "            \n",
    "            y_min = np.min(trial_ys, axis=0)\n",
    "            y_avg = np.average(trial_ys, axis=0)\n",
    "            y_max = np.max(trial_ys, axis=0)\n",
    "            std = np.std(trial_ys, axis=0, ddof=1)\n",
    "            y_lower = y_avg - std\n",
    "            y_upper = y_avg + std\n",
    "            xs = range(y_avg.shape[0])\n",
    "            \n",
    "            # Get the correct figure\n",
    "            plt.figure(utils.environments.index(env_name))\n",
    "            plt.plot(y_avg, label=label)\n",
    "            plt.fill_between(xs, y_lower, y_upper, alpha=.2)\n",
    "            #plt.fill_between(xs, y_lower, y_upper, alpha=.2)\n",
    "            \n",
    "            # Plot baselines\n",
    "            if plot_baseline:\n",
    "                bl_ys = []\n",
    "                for seed, log_folder in BASELINES[env_name].items():\n",
    "                    log_folder = DATA_DIR / log_folder\n",
    "                    logfile = str(list(log_folder.iterdir())[0])\n",
    "                    bl_ys.append(parse_tf_eventsfile(logfile))\n",
    "                bl_ys = np.array(bl_ys)\n",
    "                \n",
    "                bl_ys_min = np.min(bl_ys, axis=0)\n",
    "                bl_ys_avg = np.average(bl_ys, axis=0)\n",
    "                bl_ys_max = np.max(bl_ys, axis=0)\n",
    "                bl_std = np.std(bl_ys, axis=0, ddof=1)\n",
    "                print(bl_std)\n",
    "                bl_y_lower = bl_ys_avg - std\n",
    "                bl_y_upper = bl_ys_avg + std\n",
    "                xs = range(bl_ys_avg.shape[0])\n",
    "                \n",
    "                plt.plot(bl_ys_avg, label='Baseline')\n",
    "                plt.fill_between(xs, bl_y_lower, bl_y_upper, alpha=.2)\n",
    "            \n",
    "            plt.legend()\n",
    "            \n",
    "    for i, env_name in enumerate(utils.environments):\n",
    "        plt.figure(i)\n",
    "        title = f\"{exp_set_name}__on__{env_name}\"\n",
    "        plt.savefig(OUTPUT_DIR / title)\n",
    "    \n",
    "    plt.show()"
   ]
  },
  {
   "cell_type": "code",
   "execution_count": 14,
   "metadata": {
    "scrolled": false
   },
   "outputs": [
    {
     "ename": "IndexError",
     "evalue": "list index out of range",
     "output_type": "error",
     "traceback": [
      "\u001b[0;31m---------------------------------------------------------------------------\u001b[0m",
      "\u001b[0;31mIndexError\u001b[0m                                Traceback (most recent call last)",
      "\u001b[0;32m<ipython-input-14-2b3a98d23056>\u001b[0m in \u001b[0;36m<module>\u001b[0;34m()\u001b[0m\n\u001b[0;32m----> 1\u001b[0;31m \u001b[0mplot_exp_set\u001b[0m\u001b[0;34m(\u001b[0m\u001b[0;34m'env_sweep'\u001b[0m\u001b[0;34m,\u001b[0m \u001b[0mplot_baseline\u001b[0m\u001b[0;34m=\u001b[0m\u001b[0;32mTrue\u001b[0m\u001b[0;34m)\u001b[0m\u001b[0;34m\u001b[0m\u001b[0;34m\u001b[0m\u001b[0m\n\u001b[0m\u001b[1;32m      2\u001b[0m \u001b[0mplot_exp_set\u001b[0m\u001b[0;34m(\u001b[0m\u001b[0;34m'sample_sweep'\u001b[0m\u001b[0;34m)\u001b[0m\u001b[0;34m\u001b[0m\u001b[0;34m\u001b[0m\u001b[0m\n\u001b[1;32m      3\u001b[0m \u001b[0mplot_exp_set\u001b[0m\u001b[0;34m(\u001b[0m\u001b[0;34m'terminal_val_sweep'\u001b[0m\u001b[0;34m)\u001b[0m\u001b[0;34m\u001b[0m\u001b[0;34m\u001b[0m\u001b[0m\n\u001b[1;32m      4\u001b[0m \u001b[0mplot_exp_set\u001b[0m\u001b[0;34m(\u001b[0m\u001b[0;34m'batch_size_sweep'\u001b[0m\u001b[0;34m)\u001b[0m\u001b[0;34m\u001b[0m\u001b[0;34m\u001b[0m\u001b[0m\n",
      "\u001b[0;32m<ipython-input-13-86bca6ffa04e>\u001b[0m in \u001b[0;36mplot_exp_set\u001b[0;34m(exp_set_name, plot_baseline)\u001b[0m\n\u001b[1;32m     14\u001b[0m         \u001b[0;31m# Get the run_folder for this combination of experiment flags\u001b[0m\u001b[0;34m\u001b[0m\u001b[0;34m\u001b[0m\u001b[0;34m\u001b[0m\u001b[0m\n\u001b[1;32m     15\u001b[0m         \u001b[0mexp_name\u001b[0m \u001b[0;34m=\u001b[0m \u001b[0mutils\u001b[0m\u001b[0;34m.\u001b[0m\u001b[0mget_exp_name\u001b[0m\u001b[0;34m(\u001b[0m\u001b[0mexp_flags\u001b[0m\u001b[0;34m)\u001b[0m\u001b[0;34m\u001b[0m\u001b[0;34m\u001b[0m\u001b[0m\n\u001b[0;32m---> 16\u001b[0;31m         \u001b[0mrun_folder\u001b[0m \u001b[0;34m=\u001b[0m \u001b[0mget_exp_paths\u001b[0m\u001b[0;34m(\u001b[0m\u001b[0mexp_name\u001b[0m\u001b[0;34m,\u001b[0m \u001b[0mmost_recent\u001b[0m\u001b[0;34m=\u001b[0m\u001b[0;32mTrue\u001b[0m\u001b[0;34m)\u001b[0m\u001b[0;34m[\u001b[0m\u001b[0;36m0\u001b[0m\u001b[0;34m]\u001b[0m\u001b[0;34m\u001b[0m\u001b[0;34m\u001b[0m\u001b[0m\n\u001b[0m\u001b[1;32m     17\u001b[0m         \u001b[0;31m# Identify the logfile\u001b[0m\u001b[0;34m\u001b[0m\u001b[0;34m\u001b[0m\u001b[0;34m\u001b[0m\u001b[0m\n\u001b[1;32m     18\u001b[0m         \u001b[0mlogfile\u001b[0m \u001b[0;34m=\u001b[0m \u001b[0mstr\u001b[0m\u001b[0;34m(\u001b[0m\u001b[0mlist\u001b[0m\u001b[0;34m(\u001b[0m\u001b[0mrun_folder\u001b[0m\u001b[0;34m.\u001b[0m\u001b[0miterdir\u001b[0m\u001b[0;34m(\u001b[0m\u001b[0;34m)\u001b[0m\u001b[0;34m)\u001b[0m\u001b[0;34m[\u001b[0m\u001b[0;36m0\u001b[0m\u001b[0;34m]\u001b[0m\u001b[0;34m)\u001b[0m\u001b[0;34m.\u001b[0m\u001b[0mstrip\u001b[0m\u001b[0;34m(\u001b[0m\u001b[0;34m\"\\'\"\u001b[0m\u001b[0;34m)\u001b[0m\u001b[0;34m\u001b[0m\u001b[0;34m\u001b[0m\u001b[0m\n",
      "\u001b[0;32m<ipython-input-3-652aa2320a53>\u001b[0m in \u001b[0;36mget_exp_paths\u001b[0;34m(exp_name, most_recent)\u001b[0m\n\u001b[1;32m      8\u001b[0m     \u001b[0mpaths\u001b[0m \u001b[0;34m=\u001b[0m \u001b[0;34m[\u001b[0m\u001b[0mp\u001b[0m \u001b[0;32mfor\u001b[0m \u001b[0mp\u001b[0m \u001b[0;32min\u001b[0m \u001b[0mpaths\u001b[0m \u001b[0;32mif\u001b[0m \u001b[0;34m'bl'\u001b[0m \u001b[0;32mnot\u001b[0m \u001b[0;32min\u001b[0m \u001b[0mstr\u001b[0m\u001b[0;34m(\u001b[0m\u001b[0mp\u001b[0m\u001b[0;34m)\u001b[0m\u001b[0;34m]\u001b[0m\u001b[0;34m\u001b[0m\u001b[0;34m\u001b[0m\u001b[0m\n\u001b[1;32m      9\u001b[0m     \u001b[0;32mif\u001b[0m \u001b[0mmost_recent\u001b[0m\u001b[0;34m:\u001b[0m\u001b[0;34m\u001b[0m\u001b[0;34m\u001b[0m\u001b[0m\n\u001b[0;32m---> 10\u001b[0;31m         \u001b[0;32mreturn\u001b[0m \u001b[0;34m[\u001b[0m\u001b[0mpaths\u001b[0m\u001b[0;34m[\u001b[0m\u001b[0;36m0\u001b[0m\u001b[0;34m]\u001b[0m\u001b[0;34m]\u001b[0m\u001b[0;34m\u001b[0m\u001b[0;34m\u001b[0m\u001b[0m\n\u001b[0m\u001b[1;32m     11\u001b[0m     \u001b[0;32mreturn\u001b[0m \u001b[0mpaths\u001b[0m\u001b[0;34m\u001b[0m\u001b[0;34m\u001b[0m\u001b[0m\n",
      "\u001b[0;31mIndexError\u001b[0m: list index out of range"
     ]
    },
    {
     "data": {
      "image/png": "[encoded data removed]",
      "text/plain": [
       "<Figure size 720x576 with 1 Axes>"
      ]
     },
     "metadata": {
      "needs_background": "light"
     },
     "output_type": "display_data"
    },
    {
     "data": {
      "image/png": "[encoded data removed]",
      "text/plain": [
       "<Figure size 720x576 with 1 Axes>"
      ]
     },
     "metadata": {
      "needs_background": "light"
     },
     "output_type": "display_data"
    },
    {
     "data": {
      "image/png": "[encoded data removed]",
      "text/plain": [
       "<Figure size 720x576 with 1 Axes>"
      ]
     },
     "metadata": {
      "needs_background": "light"
     },
     "output_type": "display_data"
    }
   ],
   "source": [
    "plot_exp_set('env_sweep', plot_baseline=True)\n",
    "plot_exp_set('sample_sweep')\n",
    "plot_exp_set('terminal_val_sweep')\n",
    "plot_exp_set('batch_size_sweep')"
   ]
  },
  {
   "cell_type": "code",
   "execution_count": null,
   "metadata": {},
   "outputs": [],
   "source": []
  },
  {
   "cell_type": "code",
   "execution_count": null,
   "metadata": {},
   "outputs": [],
   "source": []
  }
 ],
 "metadata": {
  "kernelspec": {
   "display_name": "Python 3",
   "language": "python",
   "name": "python3"
  },
  "language_info": {
   "codemirror_mode": {
    "name": "ipython",
    "version": 3
   },
   "file_extension": ".py",
   "mimetype": "text/x-python",
   "name": "python",
   "nbconvert_exporter": "python",
   "pygments_lexer": "ipython3",
   "version": "3.6.8"
  }
 },
 "nbformat": 4,
 "nbformat_minor": 2
}
